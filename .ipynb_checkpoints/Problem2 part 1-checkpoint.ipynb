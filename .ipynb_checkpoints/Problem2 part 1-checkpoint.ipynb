{
 "cells": [
  {
   "cell_type": "code",
   "execution_count": 63,
   "metadata": {
    "scrolled": true
   },
   "outputs": [],
   "source": [
    "import numpy as np\n",
    "import pandas as pd\n",
    "import matplotlib.pyplot as plt\n",
    "from sklearn import  linear_model\n",
    "from scipy import stats "
   ]
  },
  {
   "cell_type": "code",
   "execution_count": 2,
   "metadata": {
    "scrolled": false
   },
   "outputs": [
    {
     "name": "stderr",
     "output_type": "stream",
     "text": [
      "C:\\Users\\STEVE\\Anaconda3\\lib\\site-packages\\IPython\\core\\interactiveshell.py:2717: DtypeWarning: Columns (15,25,26,27,28,29,30,31,32,33,34,36,40) have mixed types. Specify dtype option on import or set low_memory=False.\n",
      "  interactivity=interactivity, compiler=compiler, result=result)\n"
     ]
    }
   ],
   "source": [
    "root=\"C:/Users/STEVE/Desktop/data/Data_Incubator/\"\n",
    "####please note that 'STEVE' in path of folder is my boss' name (STEVE Shladover). He gave me his laptop and I did not \n",
    "#chage its user name.\n",
    "\n",
    "####I store file names in variables\n",
    "GRP_PQRS=\"Physician_Compare_2015_Group_Public_Reporting___Performance_Scores\"\n",
    "GRP_CAHPS=\"Physician_Compare_2015_Group_Public_Reporting_-_Patient_Experience\"\n",
    "EP_PQRS_QCDR=\"Physician_Compare_2015_Individual_EP_Public_Reporting___Performance_Scores\"\n",
    "Physiciandemo=\"Physician_Compare_National_Downloadable_File\"\n",
    "\n",
    "#### only read two tables that I need for this problem\n",
    "demog=pd.read_csv(root+Physiciandemo+'.csv')\n",
    "rates=pd.read_csv(root+EP_PQRS_QCDR+'.csv')"
   ]
  },
  {
   "cell_type": "code",
   "execution_count": 19,
   "metadata": {
    "scrolled": false
   },
   "outputs": [
    {
     "name": "stderr",
     "output_type": "stream",
     "text": [
      "C:\\Users\\STEVE\\Anaconda3\\lib\\site-packages\\ipykernel\\__main__.py:4: SettingWithCopyWarning: \n",
      "A value is trying to be set on a copy of a slice from a DataFrame.\n",
      "Try using .loc[row_indexer,col_indexer] = value instead\n",
      "\n",
      "See the caveats in the documentation: http://pandas.pydata.org/pandas-docs/stable/indexing.html#indexing-view-versus-copy\n"
     ]
    },
    {
     "name": "stdout",
     "output_type": "stream",
     "text": [
      "The number of unique NPI is 1070395 and number of uniqe PAC IDs is 1070399, \n",
      "        while the number of unique names are the same (903107 = 903107). This implies that PAC ID , \n",
      "        which has a larger number of unique IDs, has redundant info. So, I will use NPI as the unique ID.\n",
      "        \n",
      "      \n",
      "      \n"
     ]
    }
   ],
   "source": [
    "###########this cell is to find which columns should be used for ID\n",
    "####I extract some of the columns that I need for analysis\n",
    "to_find_err=demog[['NPI','PAC ID', 'First Name', 'Last Name']]\n",
    "###NPI has fewer unique values than PAC ID. I am planning to compare these columns with first names and last names; and if\n",
    "# the number of unique names are the same for both, it implies that extra PAC ID values are most likely the wrong ones.\n",
    "\n",
    "####I strip names and then combine them into one column and then conver all of them to lower case\n",
    "to_find_err['First Name'].str.strip()\n",
    "to_find_err['Last Name'].str.strip()\n",
    "to_find_err['Name combined']=to_find_err['First Name']+','+to_find_err['Last Name']\n",
    "to_find_err['Name combined'].str.lower()\n",
    "\n",
    "#### see the number of unique values for NPI and PAC ID\n",
    "err_NPI_unique=to_find_err.drop_duplicates(['NPI'])\n",
    "err_PAC_unique=to_find_err.drop_duplicates(['PAC ID'])\n",
    "val1= (err_NPI_unique[ 'Name combined'].nunique())\n",
    "val2= (err_NPI_unique[ 'NPI'].nunique())\n",
    "val3=(err_PAC_unique['Name combined'].nunique()) \n",
    "val4=(err_PAC_unique[ 'PAC ID'].nunique())\n",
    "print(\"\"\"The number of unique NPI is %d and number of uniqe PAC IDs is %d, \n",
    "        while the number of unique names are the same (%d = %d). This implies that PAC ID , \n",
    "        which has a larger number of unique IDs, has redundant info. So, I will use NPI as the unique ID.\n",
    "        \n",
    "      \n",
    "      \"\"\"%(val2,val4,val1,val3))"
   ]
  },
  {
   "cell_type": "code",
   "execution_count": 20,
   "metadata": {
    "scrolled": true
   },
   "outputs": [
    {
     "name": "stdout",
     "output_type": "stream",
     "text": [
      "the number of clinicians=1070395\n"
     ]
    }
   ],
   "source": [
    "##How many clinicians are in the dataset?\n",
    "\n",
    "\n",
    "###the number of clinicians are equal to the number of unique NPIs\n",
    "df_NPI=demog.drop_duplicates('NPI', keep='first')\n",
    "answer=(demog['NPI'].nunique())\n",
    "print(\"The number of clinicians=%d\"%answer)\n"
   ]
  },
  {
   "cell_type": "code",
   "execution_count": 21,
   "metadata": {},
   "outputs": [
    {
     "name": "stdout",
     "output_type": "stream",
     "text": [
      "The ratio of male to female is 1.174254\n"
     ]
    }
   ],
   "source": [
    "#What is the ratio of male to female clinicians?\n",
    "\n",
    "#####I create one table with inly females and uniqe NPI\n",
    "female_num=df_NPI['NPI'][df_NPI['Gender']=='F'].count()\n",
    "##### the same table for only males\n",
    "male_num=df_NPI['NPI'][df_NPI['Gender']=='M'].count()\n",
    "##### compute the ratio\n",
    "ratio=male_num/female_num\n",
    "print(\"The ratio of male to female is %f\"%ratio)"
   ]
  },
  {
   "cell_type": "code",
   "execution_count": 50,
   "metadata": {
    "scrolled": false
   },
   "outputs": [
    {
     "name": "stdout",
     "output_type": "stream",
     "text": [
      "The maximum credential-wise male-female ratio is 12.000000\n"
     ]
    }
   ],
   "source": [
    "#What is the highest ratio of female clinicians to male clinicians with a given type of credential?\n",
    "\n",
    "### create a new table that includes credentials only for males\n",
    "df_M=df_NPI[['NPI', 'Gender', 'Credential']][df_NPI['Gender']=='M'].dropna()\n",
    "\n",
    "#### rename the columnes since I will join (merge) this table with the coressponding table for females\n",
    "df_M.columns=['NPI_M', 'count_M', 'Cred_M']\n",
    "\n",
    "## same table for females\n",
    "df_F=df_NPI[['NPI', 'Gender', 'Credential']][df_NPI['Gender']=='F'].dropna()\n",
    "### rename the columns for females table\n",
    "df_F.columns=['NPI_F', 'count_F', 'Cred_F']\n",
    "\n",
    "####compute the number of clinicians for each credentials. I do that separately for males and females.\n",
    "### and then store resylts in new tables\n",
    "count_M=df_M.groupby(['Cred_M']).count()\n",
    "count_F=df_F.groupby(['Cred_F']).count()\n",
    "\n",
    "###I will bring indexes (i.e Credentials) of the tables as new columns, becuase I will use these columns to join the tables\n",
    "count_F['Cred_F']=(count_F.index.tolist())\n",
    "count_M['Cred_M']=(count_M.index.tolist())\n",
    "\n",
    "###I join the two tables based on Credentials. I use inner join to makes sure that I only consider credentials that are \n",
    "## common between males and femalse; otherwise the denominator might be zero\n",
    "count_M_F=count_F.merge(count_M, left_on='Cred_F', right_on='Cred_M', how='inner')\n",
    "\n",
    "### compute the ratios as new column \n",
    "count_M_F['ratio']=count_M_F['count_M']/count_M_F['count_F']\n",
    "#### find the maz ratio\n",
    "answer=count_M_F['ratio'].max()\n",
    "print(\"The maximum credential-wise male-female ratio is %f\"%answer)"
   ]
  },
  {
   "cell_type": "code",
   "execution_count": 79,
   "metadata": {},
   "outputs": [
    {
     "name": "stdout",
     "output_type": "stream",
     "text": [
      "There are 3 sate where have less than 10 hospitals\n"
     ]
    }
   ],
   "source": [
    "##How many states have fewer than 10 healthcare facilities in this dataset? \n",
    "#Include Washington D.C. and and U.S.territories in this calculation.\n",
    "#################################################\n",
    "\n",
    "##Note: I assume a facility means a hospital. So, I count the number of hospitals. \n",
    "\n",
    "### there are five columns, each represent a hosipital with a unique CNN. so, I stacke all these five columns in \n",
    "# a new data frame called \"hospitals.\n",
    "for i in range (1,6):\n",
    "    if i==1:\n",
    "        hospitals=pd.DataFrame({'State':df_NPI['State'], 'CNN':df_NPI['Hospital affiliation CCN %d'%i]})\n",
    "    else: \n",
    "        temp_df=pd.DataFrame({'State':df_NPI['State'], 'CNN':df_NPI['Hospital affiliation CCN %d'%i]})\n",
    "        hospitals=pd.concat([hospitals,temp_df.dropna()], axis=0)\n",
    "# I drop all null values\n",
    "hospitals=hospitals.dropna()\n",
    "##only consider unique CNN\n",
    "hospitals=hospitals.drop_duplicates(['CNN'])\n",
    "###count the number of hospitals for each State\n",
    "hospitals_num=hospitals.groupby(['State']).count()\n",
    "\n",
    "### count the number of states with less than 10 hospitals\n",
    "answer=hospitals_num[hospitals_num['CNN']<10].count()\n",
    "\n",
    "print(\"There are %d sate where have less than 10 hospitals\"%answer)\n",
    "\n",
    "\n"
   ]
  },
  {
   "cell_type": "code",
   "execution_count": 54,
   "metadata": {},
   "outputs": [
    {
     "name": "stdout",
     "output_type": "stream",
     "text": [
      "the standard deviation of mean rates is equal to 15.959754 when the number of observations is larger than 10\n"
     ]
    }
   ],
   "source": [
    "#All measure performance rates are on a 0 to 100 scale. \n",
    "#Compute the average measure performance rate for each clinician (across all measures). \n",
    "#Consider the distribution of these average rates for individuals who have at least 10. \n",
    "#What is the standard deviation of that distribution?\n",
    "\n",
    "\n",
    "##Create a new table \"rates_mean\" with stors average rates for each unique NPI\n",
    "rates_mean=rates[['NPI','Measure Performance Rate']].groupby(['NPI']).mean()\n",
    "###I add a columns representing the number of observations used for mean computations \n",
    "rates_mean['count']=rates[['NPI','Measure Performance Rate']].groupby(['NPI']).count()\n",
    "###I brought NPI as a column;otherwise it is just index of the table\n",
    "rates_mean['NPI']=rates_mean.index.tolist()\n",
    "#### filter the mean values by the number of observations to be at least 10\n",
    "rates_mean_AtLeast10=rates_mean[rates_mean['count']>=10]\n",
    "####compute standard deviation of the distribution\n",
    "answer=rates_mean_AtLeast10['Measure Performance Rate'].std()\n",
    "print(\"the standard deviation of mean rates is equal to %f when the number of observations is larger than 10\"%answer)\n",
    "\n"
   ]
  },
  {
   "cell_type": "code",
   "execution_count": 68,
   "metadata": {
    "scrolled": true
   },
   "outputs": [
    {
     "name": "stdout",
     "output_type": "stream",
     "text": [
      "\n",
      "    the value of slop is equal to -0.059280 and its p-value is 0.418663.\n",
      "    Since p-value is large, we can assume the slope is not signifciant.\n",
      "    Since this is a single variable regression, t-test for slope would result the same conclusion for \n",
      "    F-statistics. thus the model is not significant\n",
      "      \n",
      "    \n"
     ]
    }
   ],
   "source": [
    "#What is the p-value of the linear regression of performance rates vs. graduation year? \n",
    "#Consider the average performance rates (across all measures) of every doctor (MD) who graduated \n",
    "#between 1973 and 2003 (inclusive).Only consider doctors who have at least 10 rates.\n",
    "#For each graduation year, compute the mean of these rates. \n",
    "#Assuming the relationship between graduation year and performance rates is linear,\n",
    "#find the slope and determine if the relationship is significant. Return the p-value of the linear regression.\n",
    "\n",
    "######I create a new table with credential and graduation year\n",
    "grad_yr=demog[['NPI', 'Credential', 'Graduation year'] ].drop_duplicates(['NPI'])\n",
    "\n",
    "#####only filter the values when credential is MD and graduation year is between 1973 and 2003\n",
    "grad_yr_MD=grad_yr[(grad_yr['Credential']=='MD') \n",
    "                   &(grad_yr['Graduation year'] >=1973)\n",
    "                   &(grad_yr['Graduation year'] <=2003)]\n",
    "### then I do inner merge between the two tables 1) table with mean rates and at least 10 observations for each doctor\n",
    "###2) table with credentials and graduation years\n",
    "yr_rate_MD=rates_mean_AtLeast10.merge(grad_yr_MD,left_on='NPI', right_on='NPI', how='inner')\n",
    "#####compute mean by graduation year\n",
    "regdata=yr_rate_MD.groupby(['Graduation year']).mean()\n",
    "###convert year to a numpy array\n",
    "X=regdata.index.tolist()\n",
    "X=np.asarray(X).reshape(-1,1)\n",
    "#### convert mean rates to a numpy array\n",
    "Y=(regdata[['Measure Performance Rate']].as_matrix())\n",
    "\n",
    "###perform regression\n",
    "slope,intercept,rvalue,pvalue,stderr=(stats.mstats.linregress(X,Y))\n",
    "print(\"\"\"\n",
    "    The value of slop is equal to %f and its p-value is %f.\n",
    "    Since p-value is large, we can conclude that the slope is not signifciant.\n",
    "    Since this is a single variable regression, t-test for slope would result the same conclusion for \n",
    "    F-statistics. Thus, the model is not significant.\n",
    "      \n",
    "    \"\"\"%(slope,pvalue))"
   ]
  },
  {
   "cell_type": "code",
   "execution_count": 88,
   "metadata": {
    "scrolled": true
   },
   "outputs": [
    {
     "name": "stdout",
     "output_type": "stream",
     "text": [
      "The absolute difference in mean is eqla to 7.621221\n"
     ]
    }
   ],
   "source": [
    "#What is the absolute difference in the average performance rates between doctors (MD) \n",
    "#and nurse practitioners (NP)? For each clinician, use his or her average performance rates across all measures.\n",
    "#Furthermore, only consider individuals who have at least 10 rates.\n",
    "\n",
    "\n",
    "###Create the same table when credential is NP\n",
    "grad_yr_NP=grad_yr[(grad_yr['Credential']=='NP')\n",
    "                  &(grad_yr['Graduation year'] >=1973)\n",
    "                  &(grad_yr['Graduation year'] <=2003)\n",
    "                  ]\n",
    "#### Create a new table which stors rates and credential and graduation year\n",
    "yr_rate_NP=rates_mean_AtLeast10.merge(grad_yr_NP,left_on='NPI', right_on='NPI', how='inner')\n",
    "\n",
    "##compute the difference\n",
    "answer=yr_rate_NP['Measure Performance Rate'].mean()-yr_rate_MD['Measure Performance Rate'].mean()\n",
    "print(\"The absolute difference in mean is eqla to %f\"%abs(answer))"
   ]
  },
  {
   "cell_type": "code",
   "execution_count": 89,
   "metadata": {},
   "outputs": [
    {
     "name": "stdout",
     "output_type": "stream",
     "text": [
      "Since p-value (= 0.014861) is less than 0.025, then with 95 percent confidence, I reject he null hypothesis\n"
     ]
    }
   ],
   "source": [
    "#What is the p-value of the difference in MD and NP performance rates from the previous question? \n",
    "#Perform a two-sample t-test and compute the two-tailed p-value. \n",
    "#Assume that the distributions are normal and have equal variance.\n",
    "\n",
    "###########store rates for NP and MD in numpy arrays\n",
    "rate_NP=np.array(yr_rate_NP['Measure Performance Rate'])\n",
    "rate_MD=np.array(yr_rate_MD['Measure Performance Rate'])\n",
    "\n",
    "#### performe 2-tailed test\n",
    "t_stat,pval=stats.ttest_ind(rate_MD,rate_NP)\n",
    "print(\"Since p-value (= %f) is less than 0.025, then with 95 percent confidence, I reject he null hypothesis\"%pval)"
   ]
  }
 ],
 "metadata": {
  "kernelspec": {
   "display_name": "Python 3",
   "language": "python",
   "name": "python3"
  },
  "language_info": {
   "codemirror_mode": {
    "name": "ipython",
    "version": 3
   },
   "file_extension": ".py",
   "mimetype": "text/x-python",
   "name": "python",
   "nbconvert_exporter": "python",
   "pygments_lexer": "ipython3",
   "version": "3.6.0"
  }
 },
 "nbformat": 4,
 "nbformat_minor": 2
}
