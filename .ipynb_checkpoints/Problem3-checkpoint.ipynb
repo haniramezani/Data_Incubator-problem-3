{
 "cells": [
  {
   "cell_type": "code",
   "execution_count": 206,
   "metadata": {},
   "outputs": [],
   "source": [
    "import numpy as np \n",
    "import pandas as pd\n",
    "from sklearn.decomposition import PCA\n",
    "from sklearn.preprocessing import scale \n",
    "from sklearn.model_selection import train_test_split, KFold, cross_val_score\n",
    "from sklearn.linear_model import LinearRegression\n",
    "from sklearn.metrics import mean_squared_error\n"
   ]
  },
  {
   "cell_type": "code",
   "execution_count": 168,
   "metadata": {
    "scrolled": true
   },
   "outputs": [
    {
     "name": "stderr",
     "output_type": "stream",
     "text": [
      "C:\\Users\\STEVE\\Anaconda3\\lib\\site-packages\\IPython\\core\\interactiveshell.py:2717: DtypeWarning: Columns (22,32,34,49,55) have mixed types. Specify dtype option on import or set low_memory=False.\n",
      "  interactivity=interactivity, compiler=compiler, result=result)\n"
     ]
    }
   ],
   "source": [
    "########Read the data\n",
    "root=\"C:/Users/STEVE/Desktop/data/zillo data/\"\n",
    "prop=pd.read_csv(root+\"properties_2016.csv\")\n",
    "train=pd.read_csv(root+\"train_2016_v2.csv\")\n",
    "###########merge two table to have both input and output data for training\n",
    "df=train.merge(prop, left_on='parcelid', right_on='parcelid', how='inner')"
   ]
  },
  {
   "cell_type": "code",
   "execution_count": 209,
   "metadata": {
    "scrolled": false
   },
   "outputs": [
    {
     "name": "stderr",
     "output_type": "stream",
     "text": [
      "C:\\Users\\STEVE\\Anaconda3\\lib\\site-packages\\ipykernel\\__main__.py:13: SettingWithCopyWarning: \n",
      "A value is trying to be set on a copy of a slice from a DataFrame\n",
      "\n",
      "See the caveats in the documentation: http://pandas.pydata.org/pandas-docs/stable/indexing.html#indexing-view-versus-copy\n"
     ]
    }
   ],
   "source": [
    "###only extract data for October 2016\n",
    "df1=df[pd.to_datetime(df.transactiondate, yearfirst=True).dt.month==10]\n",
    "###### compute fraction of nulls for each column\n",
    "null_fraction=df1.isnull().sum()/df1.parcelid.count()\n",
    "########### find the list of columns wheer at least 90% of data are given. these will columns used for training \n",
    "col_list=null_fraction[null_fraction<0.1].index.tolist()\n",
    "########### find the index of training columns \n",
    "col_index=[]\n",
    "for i in range(0,len(df1.columns.tolist())):\n",
    "    if  df1.columns[i] not in col_list:\n",
    "        col_index.append(i)\n",
    "#### drop columns that are not in the trainig list ( i.e. col_index)\n",
    "df1.drop(df1.columns[col_index], axis=1, inplace=True)\n",
    "### drop all the remaining null values\n",
    "df1=df1.dropna()\n",
    "#####sepaarte the value of resposne\n",
    "y=df1['logerror']\n",
    "##### drop other columns that are not used for training \n",
    "df1=df1.drop(['parcelid', 'logerror', 'transactiondate','propertycountylandusecode'], axis=1)\n"
   ]
  },
  {
   "cell_type": "code",
   "execution_count": 197,
   "metadata": {
    "scrolled": true
   },
   "outputs": [
    {
     "name": "stderr",
     "output_type": "stream",
     "text": [
      "C:\\Users\\STEVE\\Anaconda3\\lib\\site-packages\\sklearn\\preprocessing\\data.py:164: UserWarning: Numerical issues were encountered when centering the data and might not be solved. Dataset may contain too large values. You may need to prescale your features.\n",
      "  warnings.warn(\"Numerical issues were encountered \"\n"
     ]
    }
   ],
   "source": [
    "####### Normalize variables\n",
    "X_scale=scale(df1.as_matrix())\n",
    "####### transform variables\n",
    "pca = PCA()\n",
    "X_transform = pca.fit_transform(X_scale)"
   ]
  },
  {
   "cell_type": "code",
   "execution_count": 198,
   "metadata": {},
   "outputs": [],
   "source": [
    "####split variables: 25% for test and the rest for training \n",
    "X_train, X_test, y_train, y_test = train_test_split(X_transform, y.ravel(),\n",
    "                                                        test_size=0.25, random_state=133)\n"
   ]
  },
  {
   "cell_type": "code",
   "execution_count": 199,
   "metadata": {
    "scrolled": true
   },
   "outputs": [
    {
     "data": {
      "text/plain": [
       "array([34.58, 54.45, 64.33, 72.92, 80.87, 85.67, 90.39, 92.74, 94.43,\n",
       "       96.  , 97.42, 98.47, 99.24, 99.73, 99.92, 99.99, 99.99, 99.99,\n",
       "       99.99, 99.99, 99.99, 99.99])"
      ]
     },
     "execution_count": 199,
     "metadata": {},
     "output_type": "execute_result"
    }
   ],
   "source": [
    "\n",
    "####### cumulative percent of variance explained. this shows that about 90% is explained by first 7 variables\n",
    "np.cumsum(np.round(pca.explained_variance_ratio_, decimals=4)*100)\n"
   ]
  },
  {
   "cell_type": "code",
   "execution_count": 201,
   "metadata": {
    "scrolled": false
   },
   "outputs": [
    {
     "data": {
      "image/png": "[encoded data removed]",
      "text/plain": [
       "<matplotlib.figure.Figure at 0x52c9c518>"
      ]
     },
     "metadata": {},
     "output_type": "display_data"
    }
   ],
   "source": [
    "#######20 fold cross validation to detremine the number of components to be included\n",
    "n = len(X_train)\n",
    "folds = KFold(n_splits=20, shuffle=True, random_state=1)\n",
    "regr = LinearRegression()\n",
    "######list to store Mean Squre Error\n",
    "mse = []\n",
    "score = -1*cross_val_score(regr, np.ones((n,1)), y_train.ravel(), cv=folds, scoring='neg_mean_squared_error').mean()    \n",
    "mse.append(score)\n",
    "for i in np.arange(1, len(df1.columns)):\n",
    "    score = -1*cross_val_score(regr, X_train[:,:i], y_train.ravel(), cv=folds, scoring='neg_mean_squared_error').mean()\n",
    "    mse.append(score)\n",
    "import matplotlib.pyplot as plt\n",
    "plt.plot(mse, '-o')\n",
    "plt.xlabel('Number of principal components in regression')\n",
    "plt.ylabel('MSE')\n",
    "plt.show()\n",
    "print(\"based on this char the first 6 compenents will be included\")"
   ]
  },
  {
   "cell_type": "code",
   "execution_count": 208,
   "metadata": {
    "scrolled": true
   },
   "outputs": [
    {
     "data": {
      "text/plain": [
       "0.013919737862222524"
      ]
     },
     "execution_count": 208,
     "metadata": {},
     "output_type": "execute_result"
    }
   ],
   "source": [
    "###########implement the model on test data. This could be useful if I wanted to compare the model with other \n",
    "#### models such as KNN or gradient boosted tree. but I ran out of time.\n",
    "regr.fit(X_train[:,:7], y_train)\n",
    "pred = regr.predict(X_test[:,:7])\n",
    "mean_squared_error(y_test, pred)"
   ]
  }
 ],
 "metadata": {
  "kernelspec": {
   "display_name": "Python 3",
   "language": "python",
   "name": "python3"
  },
  "language_info": {
   "codemirror_mode": {
    "name": "ipython",
    "version": 3
   },
   "file_extension": ".py",
   "mimetype": "text/x-python",
   "name": "python",
   "nbconvert_exporter": "python",
   "pygments_lexer": "ipython3",
   "version": "3.6.0"
  }
 },
 "nbformat": 4,
 "nbformat_minor": 2
}
