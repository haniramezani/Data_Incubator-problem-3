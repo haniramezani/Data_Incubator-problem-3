{
 "cells": [
  {
   "cell_type": "code",
   "execution_count": 10,
   "metadata": {},
   "outputs": [],
   "source": [
    "import numpy as np\n",
    "import scipy.stats"
   ]
  },
  {
   "cell_type": "code",
   "execution_count": 11,
   "metadata": {
    "scrolled": true
   },
   "outputs": [],
   "source": [
    "# The problem can be modeled like a 3-D random walk. So I create random numbers between -3 and 3. \n",
    "#Based on the random number, I will decide if the bee should move in the positive ot negative direction of\n",
    "#the orthogonal vectors 1, 2 or 3 (or i, j, k). and this will be determined by fundtion \"simulate_single_step\"\n",
    "\n",
    "\n",
    "\n",
    "np.random.seed(133)\n",
    "\n",
    "def simulate_single_step():\n",
    "    # cerate a random number between -3 and 3\n",
    "    rand_num=np.random.uniform(-3,3)\n",
    "    \n",
    "    next_move=lambda x: x if x<0 else x+1\n",
    "    direction=next_move(int(np.floor(rand_num)))\n",
    "    return direction\n",
    "\n",
    "#In the \"simulate_all_steps\" fucntion, I simulate all the steps for n replications. n is the max (30,N), where \n",
    "#N=[Z(alpha/2)*standard_deviation/error]^2. I assume error should be 0.5 steps. Standrd deviation will be updated over\n",
    "#replications and Z(alpha/2) is the corresposnding value for alpha=0.05/3. This is becuase I have three independent \n",
    "#random variables (i.e. steps in three directions). So I divide 0.05 by 3 to implement Bonferroni adjustment. \n",
    "#As a result Z(0.025/3)=2.4; thus N=(2.4*standard_deviation/0.5)^2=23.04*standard_deviation^2 \n",
    "def simulate_all_steps(step):\n",
    "    n=0\n",
    "    final_pos=[]\n",
    "    pos_std=0\n",
    "    while n<max(30,23.4*(pos_std**2)):\n",
    "        position=[0,0,0]\n",
    "        for i in range(0,step):\n",
    "            direction=simulate_single_step()\n",
    "            position[abs(direction)-1]+=np.sign(direction)\n",
    "        final_pos.append(sum(np.absolute(position)))\n",
    "        n+=1\n",
    "        pos_mean=(np.array(final_pos).mean())\n",
    "        pos_std=(np.array(final_pos).std())\n",
    "        \n",
    "    return n, pos_mean, pos_std\n",
    "\n",
    "\n",
    "    "
   ]
  },
  {
   "cell_type": "code",
   "execution_count": 12,
   "metadata": {},
   "outputs": [
    {
     "name": "stdout",
     "output_type": "stream",
     "text": [
      "the mean distance from starting point(i.e.(0,0,0)) is 5.638888888888889\n"
     ]
    }
   ],
   "source": [
    "#After T=16 steps, what is the expected value of the bee's distance from the starting hexagon?\n",
    "n_16,mean_16, std_16=simulate_all_steps(16)\n",
    "print(\"the mean distance from starting point(i.e.(0,0,0)) is %.15f\"%mean_16)"
   ]
  },
  {
   "cell_type": "code",
   "execution_count": 13,
   "metadata": {},
   "outputs": [
    {
     "name": "stdout",
     "output_type": "stream",
     "text": [
      "the expected value of deviation is 2.479390357166430\n"
     ]
    }
   ],
   "source": [
    "#After T=16 steps, what is the expected value of the deviation of the bee's distance from the starting hexagon?\n",
    "print(\"the expected value of deviation is %.15f\"%std_16)"
   ]
  },
  {
   "cell_type": "code",
   "execution_count": 15,
   "metadata": {
    "scrolled": true
   },
   "outputs": [
    {
     "name": "stdout",
     "output_type": "stream",
     "text": [
      "the mean distance from starting point(i.e.(0,0,0)) is 11.047775947281714\n"
     ]
    }
   ],
   "source": [
    "#After T=64 steps, what is the expected value of the bee's distance from the starting hexagon?\n",
    "n_64,mean_64, std_64=simulate_all_steps(64)\n",
    "print(\"the mean distance from starting point(i.e.(0,0,0)) is %.15f\"%mean_64)"
   ]
  },
  {
   "cell_type": "code",
   "execution_count": 16,
   "metadata": {},
   "outputs": [
    {
     "name": "stdout",
     "output_type": "stream",
     "text": [
      "the expected value of deviation is 5.087312528275026\n"
     ]
    }
   ],
   "source": [
    "#After T=64steps, what is the expected value of the deviation of the bee's distance from the starting hexagon?\n",
    "print(\"the expected value of deviation is %.15f\"%std_64)"
   ]
  },
  {
   "cell_type": "code",
   "execution_count": 17,
   "metadata": {},
   "outputs": [
    {
     "name": "stdout",
     "output_type": "stream",
     "text": [
      "P(A|B) for A=8 and B=6 is 0.385599165815106\n"
     ]
    }
   ],
   "source": [
    "#After T=16 moves, what is the probability that the bee is at least A=8 distance away from the starting hexagon, \n",
    "#given it is at least B=6 distance?\n",
    "\n",
    "## this is conditional probability: P(A|B)=[P(steps>A and steps>B)]/P(steps>B)\n",
    "## since A>B, then this is simplified as P(A|B)=P(steps>A)/P(steps>B)=[1-P(steps<A)]/[1-P(steps-B)]\n",
    "P_at_least_8= 1-scipy.stats.norm(mean_16, std_16).cdf(8)\n",
    "P_at_least_6= 1-scipy.stats.norm(mean_16, std_16).cdf(6)\n",
    "answer=P_at_least_8/P_at_least_6\n",
    "print(\"P(A|B) for A=8 and B=6 is %.15f\"% answer)"
   ]
  },
  {
   "cell_type": "code",
   "execution_count": 18,
   "metadata": {},
   "outputs": [
    {
     "name": "stdout",
     "output_type": "stream",
     "text": [
      "P(A|B) for A=24 and B=20 is 0.138892743764474\n"
     ]
    }
   ],
   "source": [
    "#After T=64 moves, what is the probability that the bee is at least A=24 distance away from the starting hexagon, \n",
    "#given it is at least B=20 distance?\n",
    "P_at_least_24= 1-scipy.stats.norm(mean_64, std_64).cdf(24)\n",
    "P_at_least_20= 1-scipy.stats.norm(mean_64, std_64).cdf(20)\n",
    "answer=P_at_least_24/P_at_least_20\n",
    "print(\"P(A|B) for A=24 and B=20 is %.15f\"% answer)"
   ]
  },
  {
   "cell_type": "code",
   "execution_count": null,
   "metadata": {},
   "outputs": [],
   "source": []
  }
 ],
 "metadata": {
  "kernelspec": {
   "display_name": "Python 3",
   "language": "python",
   "name": "python3"
  },
  "language_info": {
   "codemirror_mode": {
    "name": "ipython",
    "version": 3
   },
   "file_extension": ".py",
   "mimetype": "text/x-python",
   "name": "python",
   "nbconvert_exporter": "python",
   "pygments_lexer": "ipython3",
   "version": "3.6.0"
  }
 },
 "nbformat": 4,
 "nbformat_minor": 2
}
